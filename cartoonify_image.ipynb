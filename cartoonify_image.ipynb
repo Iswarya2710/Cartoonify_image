{
 "cells": [
  {
   "cell_type": "code",
   "execution_count": null,
   "id": "35ebf4e3",
   "metadata": {},
   "outputs": [],
   "source": [
    "import cv2\n",
    "import numpy as np"
   ]
  },
  {
   "cell_type": "code",
   "execution_count": null,
   "id": "eb83eb0f",
   "metadata": {},
   "outputs": [],
   "source": [
    "\n",
    "\n",
    "def cartoonify_image(image):\n",
    "    # Convert the image to grayscale\n",
    "    gray_image = cv2.cvtColor(image, cv2.COLOR_BGR2GRAY)\n",
    "\n",
    "    # Apply a median blur to smoothen the image\n",
    "    blurred_image = cv2.medianBlur(gray_image, 5)\n",
    "\n",
    "    # Apply adaptive thresholding to detect edges\n",
    "    thresholded_image = cv2.adaptiveThreshold(blurred_image, 255, cv2.ADAPTIVE_THRESH_MEAN_C, cv2.THRESH_BINARY, 11, 2)\n",
    "\n",
    "    # Combine the thresholded image with the original image to create the cartoon effect\n",
    "    cartoon_image = cv2.bitwise_and(image, image, mask=thresholded_image)\n",
    "\n",
    "    return cartoon_image\n",
    "\n",
    "if __name__ == \"__main__\":\n",
    "    # Read the image\n",
    "    image = cv2.imread(r\"C:\\Users\\dell\\Downloads\\vk.jpg\")\n",
    "\n",
    "    # Cartoonify the image\n",
    "    cartoon_image = cartoonify_image(image)\n",
    "\n",
    "    # Display the original and cartoonified images\n",
    "    cv2.imshow(\"Original Image\", image)\n",
    "    cv2.imshow(\"Cartoonized Image\", cartoon_image)\n",
    "    cv2.waitKey(0)\n",
    "\n",
    "\n"
   ]
  },
  {
   "cell_type": "code",
   "execution_count": null,
   "id": "6ab67d9a",
   "metadata": {},
   "outputs": [],
   "source": []
  }
 ],
 "metadata": {
  "kernelspec": {
   "display_name": "Python 3 (ipykernel)",
   "language": "python",
   "name": "python3"
  },
  "language_info": {
   "codemirror_mode": {
    "name": "ipython",
    "version": 3
   },
   "file_extension": ".py",
   "mimetype": "text/x-python",
   "name": "python",
   "nbconvert_exporter": "python",
   "pygments_lexer": "ipython3",
   "version": "3.11.3"
  }
 },
 "nbformat": 4,
 "nbformat_minor": 5
}
